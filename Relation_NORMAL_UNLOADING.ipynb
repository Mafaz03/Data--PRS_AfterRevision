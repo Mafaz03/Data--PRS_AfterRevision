{
 "cells": [
  {
   "cell_type": "code",
   "execution_count": 1,
   "id": "933188e5",
   "metadata": {},
   "outputs": [],
   "source": [
    "import pandas as pd\n",
    "import numpy as np\n",
    "import matplotlib.pyplot as plt\n",
    "import glob\n",
    "import os\n",
    "\n",
    "from helper import load_dic_file, extract_displacement_jump"
   ]
  },
  {
   "cell_type": "code",
   "execution_count": 3,
   "id": "8fb32f34",
   "metadata": {},
   "outputs": [
    {
     "data": {
      "text/plain": [
       "['DIC_Data/Normal/R1_CAFS13/R1_UnLoading_SumDiff/B00001.txt',\n",
       " 'DIC_Data/Normal/R1_CAFS13/R1_UnLoading_SumDiff/B00002.txt',\n",
       " 'DIC_Data/Normal/R1_CAFS13/R1_UnLoading_SumDiff/B00003.txt',\n",
       " 'DIC_Data/Normal/R1_CAFS13/R1_UnLoading_SumDiff/B00004.txt',\n",
       " 'DIC_Data/Normal/R1_CAFS13/R1_UnLoading_SumDiff/B00005.txt']"
      ]
     },
     "execution_count": 3,
     "metadata": {},
     "output_type": "execute_result"
    }
   ],
   "source": [
    "# Load all files\n",
    "file_pattern = \"DIC_Data/Normal/R1_CAFS13/R1_UnLoading_SumDiff/B*.txt\"\n",
    "files = sorted(glob.glob(file_pattern))\n",
    "files[:5]"
   ]
  },
  {
   "cell_type": "code",
   "execution_count": 4,
   "id": "f43a4b1c",
   "metadata": {},
   "outputs": [
    {
     "data": {
      "text/html": [
       "<div>\n",
       "<style scoped>\n",
       "    .dataframe tbody tr th:only-of-type {\n",
       "        vertical-align: middle;\n",
       "    }\n",
       "\n",
       "    .dataframe tbody tr th {\n",
       "        vertical-align: top;\n",
       "    }\n",
       "\n",
       "    .dataframe thead th {\n",
       "        text-align: right;\n",
       "    }\n",
       "</style>\n",
       "<table border=\"1\" class=\"dataframe\">\n",
       "  <thead>\n",
       "    <tr style=\"text-align: right;\">\n",
       "      <th></th>\n",
       "      <th>X-Position</th>\n",
       "      <th>Y-Position</th>\n",
       "      <th>U-Displacement</th>\n",
       "      <th>V-Displacement</th>\n",
       "    </tr>\n",
       "  </thead>\n",
       "  <tbody>\n",
       "    <tr>\n",
       "      <th>0</th>\n",
       "      <td>16.0</td>\n",
       "      <td>16.0</td>\n",
       "      <td>-0.045525</td>\n",
       "      <td>0.014240</td>\n",
       "    </tr>\n",
       "    <tr>\n",
       "      <th>1</th>\n",
       "      <td>48.0</td>\n",
       "      <td>16.0</td>\n",
       "      <td>-0.067024</td>\n",
       "      <td>0.056965</td>\n",
       "    </tr>\n",
       "    <tr>\n",
       "      <th>2</th>\n",
       "      <td>80.0</td>\n",
       "      <td>16.0</td>\n",
       "      <td>-0.128994</td>\n",
       "      <td>0.133907</td>\n",
       "    </tr>\n",
       "    <tr>\n",
       "      <th>3</th>\n",
       "      <td>112.0</td>\n",
       "      <td>16.0</td>\n",
       "      <td>-0.161694</td>\n",
       "      <td>0.192368</td>\n",
       "    </tr>\n",
       "    <tr>\n",
       "      <th>4</th>\n",
       "      <td>144.0</td>\n",
       "      <td>16.0</td>\n",
       "      <td>-0.159794</td>\n",
       "      <td>0.195450</td>\n",
       "    </tr>\n",
       "    <tr>\n",
       "      <th>...</th>\n",
       "      <td>...</td>\n",
       "      <td>...</td>\n",
       "      <td>...</td>\n",
       "      <td>...</td>\n",
       "    </tr>\n",
       "    <tr>\n",
       "      <th>1275</th>\n",
       "      <td>1136.0</td>\n",
       "      <td>1008.0</td>\n",
       "      <td>-0.202568</td>\n",
       "      <td>0.127316</td>\n",
       "    </tr>\n",
       "    <tr>\n",
       "      <th>1276</th>\n",
       "      <td>1168.0</td>\n",
       "      <td>1008.0</td>\n",
       "      <td>-0.190678</td>\n",
       "      <td>0.143795</td>\n",
       "    </tr>\n",
       "    <tr>\n",
       "      <th>1277</th>\n",
       "      <td>1200.0</td>\n",
       "      <td>1008.0</td>\n",
       "      <td>-0.193935</td>\n",
       "      <td>0.146961</td>\n",
       "    </tr>\n",
       "    <tr>\n",
       "      <th>1278</th>\n",
       "      <td>1232.0</td>\n",
       "      <td>1008.0</td>\n",
       "      <td>-0.216518</td>\n",
       "      <td>0.136700</td>\n",
       "    </tr>\n",
       "    <tr>\n",
       "      <th>1279</th>\n",
       "      <td>1264.0</td>\n",
       "      <td>1008.0</td>\n",
       "      <td>-0.227451</td>\n",
       "      <td>0.128525</td>\n",
       "    </tr>\n",
       "  </tbody>\n",
       "</table>\n",
       "<p>1280 rows × 4 columns</p>\n",
       "</div>"
      ],
      "text/plain": [
       "      X-Position  Y-Position  U-Displacement  V-Displacement\n",
       "0           16.0        16.0       -0.045525        0.014240\n",
       "1           48.0        16.0       -0.067024        0.056965\n",
       "2           80.0        16.0       -0.128994        0.133907\n",
       "3          112.0        16.0       -0.161694        0.192368\n",
       "4          144.0        16.0       -0.159794        0.195450\n",
       "...          ...         ...             ...             ...\n",
       "1275      1136.0      1008.0       -0.202568        0.127316\n",
       "1276      1168.0      1008.0       -0.190678        0.143795\n",
       "1277      1200.0      1008.0       -0.193935        0.146961\n",
       "1278      1232.0      1008.0       -0.216518        0.136700\n",
       "1279      1264.0      1008.0       -0.227451        0.128525\n",
       "\n",
       "[1280 rows x 4 columns]"
      ]
     },
     "execution_count": 4,
     "metadata": {},
     "output_type": "execute_result"
    }
   ],
   "source": [
    "df1 = load_dic_file(files[0])\n",
    "df1"
   ]
  },
  {
   "cell_type": "code",
   "execution_count": 16,
   "id": "58a84ed1",
   "metadata": {},
   "outputs": [],
   "source": [
    "loadings_df = pd.read_excel(\"DIC_Data/Normal/R1_CAFS13/R1_UnLoading_SumDiff/CAFS13_NormalUnLoading.xlsx\")\n",
    "loadings_df = loadings_df.drop(loadings_df.columns[0], axis=1)\n",
    "loadings_df.columns = [\"UnLoading\"]\n",
    "\n",
    "Loadings = list(loadings_df[\"UnLoading\"])"
   ]
  },
  {
   "cell_type": "code",
   "execution_count": 12,
   "id": "fe8d726f",
   "metadata": {},
   "outputs": [
    {
     "data": {
      "text/plain": [
       "np.float64(6.147)"
      ]
     },
     "execution_count": 12,
     "metadata": {},
     "output_type": "execute_result"
    }
   ],
   "source": [
    "loadings_df.columns.values[0]"
   ]
  },
  {
   "cell_type": "code",
   "execution_count": 17,
   "id": "1804a6d7",
   "metadata": {},
   "outputs": [
    {
     "data": {
      "text/plain": [
       "[np.float64(0.031985134480581684),\n",
       " np.float64(0.04978262904911179),\n",
       " np.float64(0.044031872137321515),\n",
       " np.float64(0.05210638337578366),\n",
       " np.float64(0.03719090278866233)]"
      ]
     },
     "execution_count": 17,
     "metadata": {},
     "output_type": "execute_result"
    }
   ],
   "source": [
    "displacement_jumps = []\n",
    "for i, file in enumerate(files):\n",
    "    df = load_dic_file(file)\n",
    "    delta_v = extract_displacement_jump(df)\n",
    "    displacement_jumps.append(delta_v)\n",
    "\n",
    "displacement_jumps[:5]"
   ]
  },
  {
   "cell_type": "code",
   "execution_count": 18,
   "id": "e9bd94bb",
   "metadata": {},
   "outputs": [],
   "source": [
    "# Create DataFrame for plotting\n",
    "data = pd.DataFrame({\n",
    "    'Applied Load (N)': Loadings[:len(displacement_jumps)],\n",
    "    'Displacement Jump (pixels)': displacement_jumps\n",
    "})\n"
   ]
  },
  {
   "cell_type": "code",
   "execution_count": 19,
   "id": "3364eb15",
   "metadata": {},
   "outputs": [
    {
     "data": {
      "text/html": [
       "<div>\n",
       "<style scoped>\n",
       "    .dataframe tbody tr th:only-of-type {\n",
       "        vertical-align: middle;\n",
       "    }\n",
       "\n",
       "    .dataframe tbody tr th {\n",
       "        vertical-align: top;\n",
       "    }\n",
       "\n",
       "    .dataframe thead th {\n",
       "        text-align: right;\n",
       "    }\n",
       "</style>\n",
       "<table border=\"1\" class=\"dataframe\">\n",
       "  <thead>\n",
       "    <tr style=\"text-align: right;\">\n",
       "      <th></th>\n",
       "      <th>Applied Load (N)</th>\n",
       "      <th>Displacement Jump (pixels)</th>\n",
       "    </tr>\n",
       "  </thead>\n",
       "  <tbody>\n",
       "    <tr>\n",
       "      <th>0</th>\n",
       "      <td>5.840</td>\n",
       "      <td>0.031985</td>\n",
       "    </tr>\n",
       "    <tr>\n",
       "      <th>1</th>\n",
       "      <td>5.521</td>\n",
       "      <td>0.049783</td>\n",
       "    </tr>\n",
       "    <tr>\n",
       "      <th>2</th>\n",
       "      <td>5.247</td>\n",
       "      <td>0.044032</td>\n",
       "    </tr>\n",
       "    <tr>\n",
       "      <th>3</th>\n",
       "      <td>4.963</td>\n",
       "      <td>0.052106</td>\n",
       "    </tr>\n",
       "    <tr>\n",
       "      <th>4</th>\n",
       "      <td>4.653</td>\n",
       "      <td>0.037191</td>\n",
       "    </tr>\n",
       "    <tr>\n",
       "      <th>5</th>\n",
       "      <td>4.266</td>\n",
       "      <td>0.012328</td>\n",
       "    </tr>\n",
       "    <tr>\n",
       "      <th>6</th>\n",
       "      <td>4.021</td>\n",
       "      <td>0.023714</td>\n",
       "    </tr>\n",
       "    <tr>\n",
       "      <th>7</th>\n",
       "      <td>3.751</td>\n",
       "      <td>0.056251</td>\n",
       "    </tr>\n",
       "    <tr>\n",
       "      <th>8</th>\n",
       "      <td>3.427</td>\n",
       "      <td>0.007545</td>\n",
       "    </tr>\n",
       "    <tr>\n",
       "      <th>9</th>\n",
       "      <td>3.241</td>\n",
       "      <td>0.019014</td>\n",
       "    </tr>\n",
       "    <tr>\n",
       "      <th>10</th>\n",
       "      <td>3.048</td>\n",
       "      <td>0.005794</td>\n",
       "    </tr>\n",
       "    <tr>\n",
       "      <th>11</th>\n",
       "      <td>2.672</td>\n",
       "      <td>0.005954</td>\n",
       "    </tr>\n",
       "    <tr>\n",
       "      <th>12</th>\n",
       "      <td>2.526</td>\n",
       "      <td>0.004923</td>\n",
       "    </tr>\n",
       "    <tr>\n",
       "      <th>13</th>\n",
       "      <td>2.160</td>\n",
       "      <td>0.063583</td>\n",
       "    </tr>\n",
       "    <tr>\n",
       "      <th>14</th>\n",
       "      <td>2.057</td>\n",
       "      <td>0.058868</td>\n",
       "    </tr>\n",
       "    <tr>\n",
       "      <th>15</th>\n",
       "      <td>1.752</td>\n",
       "      <td>0.119303</td>\n",
       "    </tr>\n",
       "    <tr>\n",
       "      <th>16</th>\n",
       "      <td>1.571</td>\n",
       "      <td>0.170610</td>\n",
       "    </tr>\n",
       "    <tr>\n",
       "      <th>17</th>\n",
       "      <td>1.401</td>\n",
       "      <td>0.188074</td>\n",
       "    </tr>\n",
       "    <tr>\n",
       "      <th>18</th>\n",
       "      <td>1.254</td>\n",
       "      <td>0.197706</td>\n",
       "    </tr>\n",
       "    <tr>\n",
       "      <th>19</th>\n",
       "      <td>1.076</td>\n",
       "      <td>0.256081</td>\n",
       "    </tr>\n",
       "    <tr>\n",
       "      <th>20</th>\n",
       "      <td>0.940</td>\n",
       "      <td>0.224980</td>\n",
       "    </tr>\n",
       "    <tr>\n",
       "      <th>21</th>\n",
       "      <td>0.864</td>\n",
       "      <td>0.211635</td>\n",
       "    </tr>\n",
       "    <tr>\n",
       "      <th>22</th>\n",
       "      <td>0.196</td>\n",
       "      <td>10.164831</td>\n",
       "    </tr>\n",
       "  </tbody>\n",
       "</table>\n",
       "</div>"
      ],
      "text/plain": [
       "    Applied Load (N)  Displacement Jump (pixels)\n",
       "0              5.840                    0.031985\n",
       "1              5.521                    0.049783\n",
       "2              5.247                    0.044032\n",
       "3              4.963                    0.052106\n",
       "4              4.653                    0.037191\n",
       "5              4.266                    0.012328\n",
       "6              4.021                    0.023714\n",
       "7              3.751                    0.056251\n",
       "8              3.427                    0.007545\n",
       "9              3.241                    0.019014\n",
       "10             3.048                    0.005794\n",
       "11             2.672                    0.005954\n",
       "12             2.526                    0.004923\n",
       "13             2.160                    0.063583\n",
       "14             2.057                    0.058868\n",
       "15             1.752                    0.119303\n",
       "16             1.571                    0.170610\n",
       "17             1.401                    0.188074\n",
       "18             1.254                    0.197706\n",
       "19             1.076                    0.256081\n",
       "20             0.940                    0.224980\n",
       "21             0.864                    0.211635\n",
       "22             0.196                   10.164831"
      ]
     },
     "execution_count": 19,
     "metadata": {},
     "output_type": "execute_result"
    }
   ],
   "source": [
    "data"
   ]
  },
  {
   "cell_type": "code",
   "execution_count": 20,
   "id": "74e7896e",
   "metadata": {},
   "outputs": [
    {
     "data": {
      "image/png": "[encoded data removed]",
      "text/plain": [
       "<Figure size 640x480 with 1 Axes>"
      ]
     },
     "metadata": {},
     "output_type": "display_data"
    }
   ],
   "source": [
    "plt.plot(data[\"Applied Load (N)\"], data[\"Displacement Jump (pixels)\"], \"bo-\")\n",
    "plt.grid(True)\n",
    "plt.xlabel('Displacement Jump (pixels)')\n",
    "plt.ylabel('Applied Load (N)')\n",
    "plt.title('Linear Relation: Applied Load vs Displacement Jump')\n",
    "\n",
    "plt.grid(True)\n",
    "plt.show()"
   ]
  },
  {
   "cell_type": "code",
   "execution_count": 25,
   "id": "bba758e7",
   "metadata": {},
   "outputs": [
    {
     "data": {
      "image/png": "[encoded data removed]",
      "text/plain": [
       "<Figure size 800x600 with 1 Axes>"
      ]
     },
     "metadata": {},
     "output_type": "display_data"
    }
   ],
   "source": [
    "data['Contact Stiffness (N/pixel)'] = data['Applied Load (N)'] / data['Displacement Jump (pixels)']\n",
    "plt.figure(figsize=(8,6))\n",
    "plt.plot(data['Applied Load (N)'], data['Contact Stiffness (N/pixel)'], 'gs-')\n",
    "plt.xlabel('Relaxed Load (N)')\n",
    "plt.ylabel('Contact Stiffness (N/pixel)')\n",
    "plt.title('Contact Stiffness vs Applied Load')\n",
    "plt.grid(True)\n",
    "plt.show()\n"
   ]
  }
 ],
 "metadata": {
  "kernelspec": {
   "display_name": "Python 3",
   "language": "python",
   "name": "python3"
  },
  "language_info": {
   "codemirror_mode": {
    "name": "ipython",
    "version": 3
   },
   "file_extension": ".py",
   "mimetype": "text/x-python",
   "name": "python",
   "nbconvert_exporter": "python",
   "pygments_lexer": "ipython3",
   "version": "3.11.5"
  }
 },
 "nbformat": 4,
 "nbformat_minor": 5
}
